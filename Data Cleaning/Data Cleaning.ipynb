{
 "cells": [
  {
   "cell_type": "markdown",
   "id": "cb692c11",
   "metadata": {},
   "source": [
    "# Project 3 Raw to clean"
   ]
  },
  {
   "cell_type": "markdown",
   "id": "bc91cfbe",
   "metadata": {},
   "source": [
    "## First, Imports and Reading Data"
   ]
  },
  {
   "cell_type": "code",
   "execution_count": null,
   "id": "47bd81a0",
   "metadata": {},
   "outputs": [],
   "source": [
    "import itertools\n",
    "import numpy as np\n",
    "import pandas as pd \n",
    "from numbers import Number\n",
    "from scipy import stats\n",
    "from matplotlib.colors import ListedColormap\n",
    "import warnings\n",
    "warnings.filterwarnings('ignore')\n",
    "\n",
    "import pickle"
   ]
  },
  {
   "cell_type": "code",
   "execution_count": null,
   "id": "c47db77e",
   "metadata": {},
   "outputs": [],
   "source": [
    "df = pd.read_csv('NPDB2401.csv')\n",
    "df"
   ]
  },
  {
   "cell_type": "markdown",
   "id": "ff08aa43",
   "metadata": {},
   "source": [
    "### Get only Modern Day Malpractice Payment "
   ]
  },
  {
   "cell_type": "code",
   "execution_count": null,
   "id": "0ce4539c",
   "metadata": {},
   "outputs": [],
   "source": [
    "df = df[df['RECTYPE'].isin(['P'])]\n",
    "df"
   ]
  },
  {
   "cell_type": "markdown",
   "id": "71eec9bc",
   "metadata": {},
   "source": [
    "### Get the amount of years of the malpractice record has gone on "
   ]
  },
  {
   "cell_type": "code",
   "execution_count": null,
   "id": "d3228cf8",
   "metadata": {},
   "outputs": [],
   "source": [
    "df['MALTIME'] = df['MALYEAR1'] - df['MALYEAR2'].map(lambda x: 0 if pd.isnull(x) else x)\n",
    "df['MALTIME'] = df['MALTIME'].map(lambda x: int(-1*x) if x < 0 else 0)\n",
    "df['MALTIME']"
   ]
  },
  {
   "cell_type": "markdown",
   "id": "5c49a875",
   "metadata": {},
   "source": [
    "### Let's drop the columns with too many nulls (10% is way to much) "
   ]
  },
  {
   "cell_type": "code",
   "execution_count": null,
   "id": "20c79e2c",
   "metadata": {},
   "outputs": [],
   "source": [
    "cols_to_check = df.columns\n",
    "is_null_col = dict(df[cols_to_check].isnull().apply(lambda x: x.sum() > (509608*.1) ))\n",
    "null_col = [key for key in is_null_col.keys() if is_null_col[key]]\n",
    "null_col"
   ]
  },
  {
   "cell_type": "markdown",
   "id": "9933dc9d",
   "metadata": {},
   "source": [
    "### SEQNO and RECTYPE are useless. I do not need ids or values that are singular"
   ]
  },
  {
   "cell_type": "code",
   "execution_count": null,
   "id": "8abd3926",
   "metadata": {
    "scrolled": true
   },
   "outputs": [],
   "source": [
    "df.drop(null_col + ['SEQNO', 'RECTYPE', 'MALYEAR1', 'MALYEAR2'], axis=1,inplace=True)\n",
    "df.dropna(inplace=True)\n",
    "df"
   ]
  },
  {
   "cell_type": "markdown",
   "id": "6905062a",
   "metadata": {},
   "source": [
    "## Time to deal with the payments \n",
    "\n",
    "### Objectives\n",
    "   1. Fill in TOTALPMT as PAYMENT\n",
    "   2. Account for inflation in PAYMENT"
   ]
  },
  {
   "cell_type": "markdown",
   "id": "40bd214e",
   "metadata": {},
   "source": [
    "### Objective 1 - Fill in TOTALPMT as PAYMENT"
   ]
  },
  {
   "cell_type": "code",
   "execution_count": null,
   "id": "51908c44",
   "metadata": {},
   "outputs": [],
   "source": [
    "df['PAYMENT'] = df['TOTALPMT']\n",
    "df.drop('TOTALPMT', axis=1,inplace=True)\n",
    "df"
   ]
  },
  {
   "cell_type": "markdown",
   "id": "e461f152",
   "metadata": {},
   "source": [
    "### Objective 2 - Account for inflation in PAYMENT"
   ]
  },
  {
   "cell_type": "markdown",
   "id": "9a365507",
   "metadata": {},
   "source": [
    "#### What years are in the data frame "
   ]
  },
  {
   "cell_type": "code",
   "execution_count": null,
   "id": "3f1b2a92",
   "metadata": {},
   "outputs": [],
   "source": [
    "df['ORIGYEAR'].unique()"
   ]
  },
  {
   "cell_type": "markdown",
   "id": "897c4aa5",
   "metadata": {},
   "source": [
    "### Inflation for each year and a function that will help with that"
   ]
  },
  {
   "cell_type": "code",
   "execution_count": null,
   "id": "f99978a1",
   "metadata": {},
   "outputs": [],
   "source": [
    "def inflation(years, amounts):\n",
    "    ref_year = {\n",
    "        2004: 1.66, 2005: 1.61, 2006: 1.56,\n",
    "        2007: 1.51, 2008: 1.46, 2009: 1.46,\n",
    "        2010: 1.44, 2011: 1.40, 2012: 1.37,\n",
    "        2013: 1.35, 2014: 1.33, 2015: 1.33,\n",
    "        2016: 1.31, 2017: 1.28, 2018: 1.25,\n",
    "        2019: 1.23, 2020: 1.21, 2021: 1.16,\n",
    "        2022: 1.07, 2023: 1.03, 2024: 1.00\n",
    "    }\n",
    "    return [amounts.iloc[i]*ref_year[years.iloc[i]] for i in range(len(years))]\n"
   ]
  },
  {
   "cell_type": "markdown",
   "id": "63dd0384",
   "metadata": {},
   "source": [
    "#### Parse PAYMENT into ints"
   ]
  },
  {
   "cell_type": "code",
   "execution_count": null,
   "id": "ad8ff2cd",
   "metadata": {},
   "outputs": [],
   "source": [
    "df['PAYMENT'] = df['PAYMENT'].map(lambda x: int(x[1:]))\n",
    "df['PAYMENT']"
   ]
  },
  {
   "cell_type": "code",
   "execution_count": null,
   "id": "0bdd13ca",
   "metadata": {},
   "outputs": [],
   "source": [
    "df['PAYMENT'] = inflation(df['ORIGYEAR'], df['PAYMENT'])\n",
    "df['PAYMENT']"
   ]
  },
  {
   "cell_type": "markdown",
   "id": "e7c89013",
   "metadata": {},
   "source": [
    "### Next, are there any other useless columns"
   ]
  },
  {
   "cell_type": "markdown",
   "id": "74ed35b3",
   "metadata": {},
   "source": [
    "### Most of the columns categorical, so how many categories are there if it is a categorical column"
   ]
  },
  {
   "cell_type": "code",
   "execution_count": null,
   "id": "30ff1f56",
   "metadata": {
    "scrolled": false
   },
   "outputs": [],
   "source": [
    "col_ref = {}\n",
    "for col in df.columns:\n",
    "    col_ref[col]  = len(df[col].unique())\n",
    "col_ref"
   ]
  },
  {
   "cell_type": "markdown",
   "id": "54e74516",
   "metadata": {},
   "source": [
    "### Useless Columns \n",
    "\n",
    "   - PRACTNUM is an id for practitioner\n",
    "   - ACCRRPTS has only one unique value\n",
    "   - ORIGYEAR is the year, which is irrevlent to new data. "
   ]
  },
  {
   "cell_type": "code",
   "execution_count": null,
   "id": "654b4bd1",
   "metadata": {},
   "outputs": [],
   "source": [
    "df.drop(['PRACTNUM', 'ACCRRPTS', 'ORIGYEAR'], axis=1,inplace=True)\n",
    "df"
   ]
  },
  {
   "cell_type": "markdown",
   "id": "54a99ba4",
   "metadata": {},
   "source": [
    "### Let's rename and add columns"
   ]
  },
  {
   "cell_type": "code",
   "execution_count": null,
   "id": "a187def1",
   "metadata": {},
   "outputs": [],
   "source": [
    "df = df.rename(columns={'REPTYPE' : 'ISINSURE', 'FUNDPYMT' : 'STATEFUND'})"
   ]
  },
  {
   "cell_type": "markdown",
   "id": "0f5458cb",
   "metadata": {},
   "source": [
    "### WKNLICEQ - work (WK) and (N) License (LIC) states are the same (EQ) "
   ]
  },
  {
   "cell_type": "code",
   "execution_count": null,
   "id": "434ee375",
   "metadata": {},
   "outputs": [],
   "source": [
    "df['ISINSURE'] = df['ISINSURE'].map({101 : 1, 102 : 0})\n",
    "df.insert(3, 'WKNLICEQ', (df['WORKSTAT'] == df['LICNSTAT']).astype(int))\n",
    "df"
   ]
  },
  {
   "cell_type": "code",
   "execution_count": null,
   "id": "c887adc1",
   "metadata": {},
   "outputs": [],
   "source": [
    "df.to_csv('NPDB2401_Modern_Malpractice_Clean.csv', index=False)"
   ]
  },
  {
   "cell_type": "code",
   "execution_count": null,
   "id": "55f116d8",
   "metadata": {},
   "outputs": [],
   "source": []
  }
 ],
 "metadata": {
  "kernelspec": {
   "display_name": "Python (learn-env)",
   "language": "python",
   "name": "learn-env"
  },
  "language_info": {
   "codemirror_mode": {
    "name": "ipython",
    "version": 3
   },
   "file_extension": ".py",
   "mimetype": "text/x-python",
   "name": "python",
   "nbconvert_exporter": "python",
   "pygments_lexer": "ipython3",
   "version": "3.11.7"
  }
 },
 "nbformat": 4,
 "nbformat_minor": 5
}
